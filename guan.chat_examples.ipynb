{
 "cells": [
  {
   "cell_type": "code",
   "execution_count": null,
   "id": "cb3893e6-751b-4f44-b98f-d8f659526393",
   "metadata": {},
   "outputs": [],
   "source": [
    "# 最简单的使用\n",
    "import guan\n",
    "guan.chat('你好')"
   ]
  },
  {
   "cell_type": "code",
   "execution_count": null,
   "id": "9955e463-e9c9-4d57-93da-cfe9d3c371eb",
   "metadata": {},
   "outputs": [],
   "source": [
    "# 默认的参数\n",
    "import guan\n",
    "response = guan.chat(prompt='你好', stream=1, model=1, top_p=0.8, temperature=0.85)\n",
    "print(response)"
   ]
  },
  {
   "cell_type": "code",
   "execution_count": null,
   "id": "dda7c226-b0ff-467d-906e-6008c886cf4d",
   "metadata": {},
   "outputs": [],
   "source": [
    "# 机器人自动对话\n",
    "import guan\n",
    "response0 = '你好'\n",
    "for i0 in range(2):\n",
    "    print(f'【对话第 {i0+1} 轮】\\n')\n",
    "    print('机器人 1: ')\n",
    "    response1 = guan.chat(prompt=response0, stream=1)\n",
    "    print('机器人 2: ')\n",
    "    response0 = guan.chat(prompt=response1, stream=1)"
   ]
  },
  {
   "cell_type": "code",
   "execution_count": null,
   "id": "fc364fd2-4d71-4424-a9d6-52daff90a420",
   "metadata": {},
   "outputs": [],
   "source": [
    "# 引导机器人对话\n",
    "import guan\n",
    "response0 = '什么是神经网络？'\n",
    "plus_message = '（回答字数少于30个字，最后反问我一个问题）'\n",
    "for i0 in range(3):\n",
    "    print(f'【对话第 {i0+1} 轮】\\n')\n",
    "    print('机器人 1: ')\n",
    "    response1 = guan.chat(prompt=response0+plus_message, stream=1)\n",
    "    print('机器人 2: ')\n",
    "    response0 = guan.chat(prompt=response1+plus_message, stream=1)"
   ]
  },
  {
   "cell_type": "code",
   "execution_count": null,
   "id": "46f74dfb-1c8f-4536-9966-ef042f6f8741",
   "metadata": {},
   "outputs": [],
   "source": [
    "# 批量处理/分句润色\n",
    "import guan\n",
    "content = \"A topological insulator is a material with unique electronic properties. It behaves as an insulator in its interior but has conducting states on its surface. These surface states are protected by time-reversal symmetry and are robust against impurities and disorder. This means that electrons can flow on the surface without backscattering, even in the presence of defects or irregularities in the material. The special properties of topological insulators arise from their topological order, which is a global property of the material's electronic wavefunctions. This makes them interesting for potential applications in quantum computing and spintronics, where stable and efficient control of electronic states is crucial.\"\n",
    "plus_message = '对以上文字进行学术英文润色。'\n",
    "sentence_array = content.split('. ')\n",
    "for sentence in sentence_array:\n",
    "    print('润色前的句子：', sentence+'. ')\n",
    "    print('润色后的句子：')\n",
    "    response = guan.chat(prompt=sentence+'. '+plus_message, stream=1)\n",
    "    print('\\n\\n\\n')"
   ]
  }
 ],
 "metadata": {
  "kernelspec": {
   "display_name": "Python 3 (ipykernel)",
   "language": "python",
   "name": "python3"
  },
  "language_info": {
   "codemirror_mode": {
    "name": "ipython",
    "version": 3
   },
   "file_extension": ".py",
   "mimetype": "text/x-python",
   "name": "python",
   "nbconvert_exporter": "python",
   "pygments_lexer": "ipython3",
   "version": "3.12.7"
  }
 },
 "nbformat": 4,
 "nbformat_minor": 5
}
