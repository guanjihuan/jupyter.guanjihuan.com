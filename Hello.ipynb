{
 "cells": [
  {
   "cell_type": "code",
   "execution_count": null,
   "id": "e083ea7b-9c63-499f-b9f1-c860dbe3af7c",
   "metadata": {},
   "outputs": [],
   "source": [
    "print('hello world')"
   ]
  },
  {
   "cell_type": "code",
   "execution_count": null,
   "id": "581d65fe-4848-4870-969b-adc800d78b93",
   "metadata": {},
   "outputs": [],
   "source": [
    "# %load Hello.py\n",
    "print('hello world from .py file!')\n",
    "\n",
    "# %run Hello.py"
   ]
  },
  {
   "cell_type": "code",
   "execution_count": null,
   "id": "c66dd530-b773-4b3f-bf8a-bdf65bf22d8a",
   "metadata": {},
   "outputs": [],
   "source": [
    "import numpy as np\n",
    "a = np.array([1,2,3])\n",
    "print(a)\n",
    "import matplotlib.pyplot as plt\n",
    "plt.plot(a, '-o')\n",
    "plt.show()"
   ]
  }
 ],
 "metadata": {
  "kernelspec": {
   "display_name": "Python 3 (ipykernel)",
   "language": "python",
   "name": "python3"
  },
  "language_info": {
   "codemirror_mode": {
    "name": "ipython",
    "version": 3
   },
   "file_extension": ".py",
   "mimetype": "text/x-python",
   "name": "python",
   "nbconvert_exporter": "python",
   "pygments_lexer": "ipython3",
   "version": "3.12.7"
  }
 },
 "nbformat": 4,
 "nbformat_minor": 5
}
