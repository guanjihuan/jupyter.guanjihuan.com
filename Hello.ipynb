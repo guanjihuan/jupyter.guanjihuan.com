{
 "cells": [
  {
   "cell_type": "code",
   "execution_count": null,
   "id": "e083ea7b-9c63-499f-b9f1-c860dbe3af7c",
   "metadata": {},
   "outputs": [],
   "source": [
    "print('hello world')"
   ]
  },
  {
   "cell_type": "code",
   "execution_count": null,
   "id": "581d65fe-4848-4870-969b-adc800d78b93",
   "metadata": {},
   "outputs": [],
   "source": [
    "# %load Hello.py\n",
    "print('hello world from .py file!')\n",
    "\n",
    "# %run Hello.py"
   ]
  },
  {
   "cell_type": "code",
   "execution_count": null,
   "id": "c66dd530-b773-4b3f-bf8a-bdf65bf22d8a",
   "metadata": {},
   "outputs": [],
   "source": [
    "import numpy as np\n",
    "a = np.array([1,2,3])\n",
    "print(a)\n",
    "import matplotlib.pyplot as plt\n",
    "plt.plot(a, '-o')\n",
    "plt.show()"
   ]
  },
  {
   "cell_type": "code",
   "execution_count": null,
   "id": "57869918-abbb-4562-b420-0d3f2f28d4fc",
   "metadata": {},
   "outputs": [],
   "source": [
    "import guan\n",
    "input_message = '你好'\n",
    "result = guan.chat(prompt=input_message, stream=1)\n",
    "print(result)"
   ]
  },
  {
   "cell_type": "code",
   "execution_count": null,
   "id": "b6075414-7b5e-4c83-85a1-5d6ad4b75b63",
   "metadata": {},
   "outputs": [],
   "source": [
    "import guan\n",
    "\n",
    "def abcd(a, b, c, d):\n",
    "    print(a,b,c,d)\n",
    "    return a+b+c+d\n",
    "\n",
    "result = guan.run(abcd, 1, 2, c=3, d=4)\n",
    "print(result)"
   ]
  }
 ],
 "metadata": {
  "kernelspec": {
   "display_name": "Python 3 (ipykernel)",
   "language": "python",
   "name": "python3"
  },
  "language_info": {
   "codemirror_mode": {
    "name": "ipython",
    "version": 3
   },
   "file_extension": ".py",
   "mimetype": "text/x-python",
   "name": "python",
   "nbconvert_exporter": "python",
   "pygments_lexer": "ipython3",
   "version": "3.12.7"
  }
 },
 "nbformat": 4,
 "nbformat_minor": 5
}
